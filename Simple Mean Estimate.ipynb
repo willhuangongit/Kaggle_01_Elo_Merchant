{
 "cells": [
  {
   "cell_type": "markdown",
   "metadata": {
    "collapsed": true
   },
   "source": [
    "# Imports"
   ]
  },
  {
   "cell_type": "code",
   "execution_count": 18,
   "metadata": {
    "collapsed": true
   },
   "outputs": [],
   "source": [
    "# Third-party modules\n",
    "from IPython.display import display, HTML\n",
    "from math import log\n",
    "import csv\n",
    "import itertools\n",
    "import matplotlib.pyplot as plt\n",
    "import matplotlib.dates as mdates\n",
    "import numpy as np\n",
    "import os\n",
    "import pandas as pd\n",
    "import math\n",
    "import pylab\n",
    "import random\n",
    "import scipy.stats as ss\n",
    "\n",
    "# Custom modules\n",
    "from common.localio import *\n",
    "from common.summary import *"
   ]
  },
  {
   "cell_type": "markdown",
   "metadata": {},
   "source": [
    "# Functions"
   ]
  },
  {
   "cell_type": "code",
   "execution_count": 29,
   "metadata": {
    "collapsed": true
   },
   "outputs": [],
   "source": [
    "def rmse(pred, obs):\n",
    "    \n",
    "    # pred: a pandas dataframe or series of predicted values\n",
    "    # obs: a pandas dataframe or series of observed (actual) values\n",
    "    # The length of pred and obs should be equal.    \n",
    "    \n",
    "    n = len(obs)\n",
    "    if len(pred) != n:\n",
    "        raise_custom_error(ValueError, 'The number of predictions and observations do not match.')\n",
    "    \n",
    "    return (sum((pred - obs) ** 2) / n) ** (1/2)"
   ]
  },
  {
   "cell_type": "markdown",
   "metadata": {},
   "source": [
    "# Datasets\n",
    "\n",
    "Load each dataset and display the first few entries."
   ]
  },
  {
   "cell_type": "code",
   "execution_count": 2,
   "metadata": {
    "collapsed": true
   },
   "outputs": [],
   "source": [
    "# Load the datasets\n",
    "\n",
    "hist = CSVReader('../datasets/historical_transactions.csv', datetime_cols = ['purchase_date'])\n",
    "merch = CSVReader('../datasets/merchants.csv')\n",
    "new_merch = CSVReader('../datasets/new_merchant_transactions.csv', datetime_cols = ['purchase_date'])\n",
    "train = CSVReader('../datasets/train.csv')\n",
    "test = CSVReader('../datasets/test.csv')"
   ]
  },
  {
   "cell_type": "code",
   "execution_count": 37,
   "metadata": {},
   "outputs": [
    {
     "data": {
      "text/html": [
       "<div>\n",
       "<style>\n",
       "    .dataframe thead tr:only-child th {\n",
       "        text-align: right;\n",
       "    }\n",
       "\n",
       "    .dataframe thead th {\n",
       "        text-align: left;\n",
       "    }\n",
       "\n",
       "    .dataframe tbody tr th {\n",
       "        vertical-align: top;\n",
       "    }\n",
       "</style>\n",
       "<table border=\"1\" class=\"dataframe\">\n",
       "  <thead>\n",
       "    <tr style=\"text-align: right;\">\n",
       "      <th></th>\n",
       "      <th>target</th>\n",
       "    </tr>\n",
       "  </thead>\n",
       "  <tbody>\n",
       "    <tr>\n",
       "      <th>count</th>\n",
       "      <td>201917.000000</td>\n",
       "    </tr>\n",
       "    <tr>\n",
       "      <th>mean</th>\n",
       "      <td>-0.393636</td>\n",
       "    </tr>\n",
       "    <tr>\n",
       "      <th>std</th>\n",
       "      <td>3.850500</td>\n",
       "    </tr>\n",
       "    <tr>\n",
       "      <th>min</th>\n",
       "      <td>-33.219281</td>\n",
       "    </tr>\n",
       "    <tr>\n",
       "      <th>25%</th>\n",
       "      <td>-0.883110</td>\n",
       "    </tr>\n",
       "    <tr>\n",
       "      <th>50%</th>\n",
       "      <td>-0.023437</td>\n",
       "    </tr>\n",
       "    <tr>\n",
       "      <th>75%</th>\n",
       "      <td>0.765453</td>\n",
       "    </tr>\n",
       "    <tr>\n",
       "      <th>max</th>\n",
       "      <td>17.965068</td>\n",
       "    </tr>\n",
       "  </tbody>\n",
       "</table>\n",
       "</div>"
      ],
      "text/plain": [
       "              target\n",
       "count  201917.000000\n",
       "mean       -0.393636\n",
       "std         3.850500\n",
       "min       -33.219281\n",
       "25%        -0.883110\n",
       "50%        -0.023437\n",
       "75%         0.765453\n",
       "max        17.965068"
      ]
     },
     "execution_count": 37,
     "metadata": {},
     "output_type": "execute_result"
    }
   ],
   "source": [
    "train.data[['target']].describe()"
   ]
  },
  {
   "cell_type": "code",
   "execution_count": 40,
   "metadata": {},
   "outputs": [],
   "source": [
    "mean_vec = [train.data['target'].mean()] * len(train.data['target'])"
   ]
  },
  {
   "cell_type": "markdown",
   "metadata": {},
   "source": [
    "Calculate the RMSE of always guessing the output value to be the sample mean of the target.\n",
    "\n",
    "This approach is quite basic (even crude) and subject to strong volatility. It serves as a minimum benchmark for assessing other predictions; we demand that more sophisticated techniques significantly outperform this approach."
   ]
  },
  {
   "cell_type": "code",
   "execution_count": 42,
   "metadata": {},
   "outputs": [
    {
     "name": "stdout",
     "output_type": "stream",
     "text": [
      "3.85049046062\n"
     ]
    }
   ],
   "source": [
    "print(rmse(mean_vec, train.data['target']))"
   ]
  },
  {
   "cell_type": "markdown",
   "metadata": {},
   "source": [
    "We have also observed that there are significant outliers below -30, and the rest of the target values form a normal-like distribution. Let us try to split the target values into two parts, then apply the mean-value guess approach to each part:"
   ]
  },
  {
   "cell_type": "code",
   "execution_count": 52,
   "metadata": {},
   "outputs": [],
   "source": [
    "train_regular = train.data['target'][train.data['target'] > -30]\n",
    "train_outliers = train.data['target'][train.data['target'] <= -30]"
   ]
  },
  {
   "cell_type": "code",
   "execution_count": 56,
   "metadata": {},
   "outputs": [
    {
     "name": "stdout",
     "output_type": "stream",
     "text": [
      "RMSE for estimating non-outliers using mean: 1.71778862724\n"
     ]
    }
   ],
   "source": [
    "print(\"RMSE for estimating non-outliers using mean:\", \n",
    "      rmse([train_regular.mean()] * len(train_regular),\n",
    "          train_regular))"
   ]
  },
  {
   "cell_type": "code",
   "execution_count": 55,
   "metadata": {},
   "outputs": [
    {
     "name": "stdout",
     "output_type": "stream",
     "text": [
      "RMSE for estimating outliers using mean: 1.19371179608e-12\n"
     ]
    }
   ],
   "source": [
    "print(\"RMSE for estimating outliers using mean:\", \n",
    "      rmse([train_outliers.mean()] * len(train_outliers),\n",
    "          train_outliers))"
   ]
  },
  {
   "cell_type": "markdown",
   "metadata": {},
   "source": [
    "These appear to be a significant improvement over a gross guess over the entire target set. Being able to guess outliers correctly, therefore, is the first step to enhancing performance significantly."
   ]
  }
 ],
 "metadata": {
  "kernelspec": {
   "display_name": "Python 3",
   "language": "python",
   "name": "python3"
  },
  "language_info": {
   "codemirror_mode": {
    "name": "ipython",
    "version": 3
   },
   "file_extension": ".py",
   "mimetype": "text/x-python",
   "name": "python",
   "nbconvert_exporter": "python",
   "pygments_lexer": "ipython3",
   "version": "3.6.3"
  }
 },
 "nbformat": 4,
 "nbformat_minor": 2
}
